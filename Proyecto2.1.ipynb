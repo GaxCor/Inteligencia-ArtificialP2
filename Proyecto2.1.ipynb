{
 "cells": [
  {
   "cell_type": "markdown",
   "metadata": {},
   "source": [
    "## Análisis de Ingeniería de Variables en el Dataset de Pasajeros\n",
    "\n",
    "Este análisis se centra en la creación y transformación de variables con el fin de mejorar el rendimiento de modelos predictivos sobre un conjunto de datos de pasajeros. A partir de un archivo CSV con datos como nombres, cabinas y gastos en distintos servicios, se realiza un proceso de ingeniería de características para enriquecer la información disponible y facilitar el modelado posterior."
   ]
  },
  {
   "cell_type": "code",
   "execution_count": 5,
   "metadata": {},
   "outputs": [],
   "source": [
    "# === 1. CARGA E INGENIERÍA DE VARIABLES ===\n",
    "\n",
    "import pandas as pd\n",
    "import numpy as np\n",
    "\n",
    "df = pd.read_csv(\"train.csv\")\n",
    "\n",
    "# Extraer nombre y apellido\n",
    "df[[\"FirstName\", \"LastName\"]] = df[\"Name\"].str.split(\" \", n=1, expand=True)\n",
    "\n",
    "# Variables del nombre\n",
    "df[\"NameLength\"] = df[\"Name\"].str.len()\n",
    "df[\"FirstNameLength\"] = df[\"FirstName\"].str.len()\n",
    "df[\"LastNameLength\"] = df[\"LastName\"].str.len()\n",
    "df[\"NameInitial\"] = df[\"FirstName\"].str[0]\n",
    "df[\"LastNameInitial\"] = df[\"LastName\"].str[0]\n",
    "df[\"CompoundName\"] = df[\"FirstName\"].apply(lambda x: 1 if pd.notna(x) and \" \" in x else 0)\n",
    "df[\"IsNameLong\"] = (df[\"FirstNameLength\"] > 7).astype(int)\n",
    "\n",
    "# GroupID y GroupSize\n",
    "df[\"GroupID\"] = df[\"PassengerId\"].str.split(\"_\").str[0]\n",
    "df[\"GroupSize\"] = df[\"GroupID\"].map(df[\"GroupID\"].value_counts())\n",
    "\n",
    "# Deck y Side desde Cabin\n",
    "df[[\"Deck\", \"CabinNum\", \"Side\"]] = df[\"Cabin\"].str.split(\"/\", expand=True)\n",
    "\n",
    "# Total de gastos\n",
    "gastos = [\"RoomService\", \"FoodCourt\", \"ShoppingMall\", \"Spa\", \"VRDeck\"]\n",
    "df[\"TotalSpent\"] = df[gastos].sum(axis=1)\n",
    "df[\"HasSpent\"] = (df[\"TotalSpent\"] > 0).astype(int)\n",
    "df[\"VIP_no_spent\"] = ((df[\"VIP\"] == True) & (df[\"TotalSpent\"] == 0)).astype(int)\n",
    "\n",
    "# Target y features\n",
    "y = df[\"Transported\"].astype(int)\n",
    "X = df.drop(columns=[\"Transported\", \"PassengerId\", \"Name\", \"Cabin\", \"CabinNum\", \"FirstName\", \"LastName\"])"
   ]
  },
  {
   "cell_type": "markdown",
   "metadata": {},
   "source": [
    "## Preprocesamiento de Variables para Modelado Predictivo\n",
    "\n",
    "El preprocesamiento de datos es una etapa fundamental en el desarrollo de modelos de machine learning. En esta fase se preparan las variables para que puedan ser interpretadas por algoritmos, asegurando una correcta imputación de valores faltantes y una transformación adecuada de los datos numéricos y categóricos."
   ]
  },
  {
   "cell_type": "code",
   "execution_count": 6,
   "metadata": {},
   "outputs": [],
   "source": [
    "# === 2. PREPROCESAMIENTO ===\n",
    "\n",
    "from sklearn.preprocessing import StandardScaler, OneHotEncoder\n",
    "from sklearn.impute import SimpleImputer\n",
    "from sklearn.compose import ColumnTransformer\n",
    "from sklearn.pipeline import Pipeline\n",
    "\n",
    "categorical_cols = [\"HomePlanet\", \"CryoSleep\", \"Destination\", \"VIP\", \"Deck\", \"Side\", \"GroupID\", \"NameInitial\", \"LastNameInitial\"]\n",
    "numerical_cols = [\"Age\", \"RoomService\", \"FoodCourt\", \"ShoppingMall\", \"Spa\", \"VRDeck\",\n",
    "                  \"GroupSize\", \"TotalSpent\", \"NameLength\", \"FirstNameLength\", \"LastNameLength\"]\n",
    "binary_cols = [\"HasSpent\", \"VIP_no_spent\", \"CompoundName\", \"IsNameLong\"]\n",
    "\n",
    "# Pipelines\n",
    "numeric_transformer = Pipeline([\n",
    "    (\"imputer\", SimpleImputer(strategy=\"median\")),\n",
    "    (\"scaler\", StandardScaler())\n",
    "])\n",
    "\n",
    "categorical_transformer = Pipeline([\n",
    "    (\"imputer\", SimpleImputer(strategy=\"most_frequent\")),\n",
    "    (\"onehot\", OneHotEncoder(handle_unknown=\"ignore\", sparse_output=False))\n",
    "])\n",
    "\n",
    "preprocessor = ColumnTransformer(transformers=[\n",
    "    (\"num\", numeric_transformer, numerical_cols),\n",
    "    (\"cat\", categorical_transformer, categorical_cols)\n",
    "], remainder=\"passthrough\")  # binary_cols pasan directo"
   ]
  },
  {
   "cell_type": "markdown",
   "metadata": {},
   "source": [
    "### 3. Definición de Modelos\n",
    "\n",
    "En esta etapa se construyen distintos modelos de clasificación utilizando algoritmos populares como regresión logística, árboles de decisión, ensambles y métodos de boosting. Cada modelo se define dentro de un `Pipeline`, lo que asegura que el preprocesamiento de datos se aplique de forma consistente antes del entrenamiento. Esto permite comparar múltiples enfoques bajo una misma estructura y evaluar cuál ofrece el mejor desempeño para la tarea de predicción.\n"
   ]
  },
  {
   "cell_type": "code",
   "execution_count": 7,
   "metadata": {},
   "outputs": [],
   "source": [
    "# === 3. DEFINICIÓN DE MODELOS ===\n",
    "\n",
    "from sklearn.linear_model import LogisticRegression\n",
    "from sklearn.tree import DecisionTreeClassifier\n",
    "from sklearn.ensemble import BaggingClassifier, RandomForestClassifier, GradientBoostingClassifier\n",
    "from xgboost import XGBClassifier\n",
    "from lightgbm import LGBMClassifier\n",
    "from sklearn.pipeline import Pipeline\n",
    "\n",
    "modelos = {\n",
    "    \"Logistic Regression\": Pipeline([\n",
    "        (\"preprocessor\", preprocessor),\n",
    "        (\"clf\", LogisticRegression(max_iter=1000, n_jobs=-1))\n",
    "    ]),\n",
    "    \"Decision Tree\": Pipeline([\n",
    "        (\"preprocessor\", preprocessor),\n",
    "        (\"clf\", DecisionTreeClassifier(random_state=42))\n",
    "    ]),\n",
    "    \"Bagging\": Pipeline([\n",
    "        (\"preprocessor\", preprocessor),\n",
    "        (\"clf\", BaggingClassifier(n_estimators=100, n_jobs=-1, random_state=42))\n",
    "    ]),\n",
    "    \"Random Forest\": Pipeline([\n",
    "        (\"preprocessor\", preprocessor),\n",
    "        (\"clf\", RandomForestClassifier(n_estimators=100, n_jobs=-1, random_state=42))\n",
    "    ]),\n",
    "    \"Gradient Boosting\": Pipeline([\n",
    "        (\"preprocessor\", preprocessor),\n",
    "        (\"clf\", GradientBoostingClassifier(n_estimators=100, random_state=42))  # no tiene n_jobs hasta v1.4\n",
    "    ]),\n",
    "    \"XGBoost\": Pipeline([\n",
    "        (\"preprocessor\", preprocessor),\n",
    "        (\"clf\", XGBClassifier(use_label_encoder=False, eval_metric=\"logloss\", n_jobs=-1, random_state=42))\n",
    "    ]),\n",
    "    \"LightGBM\": Pipeline([\n",
    "        (\"preprocessor\", preprocessor),\n",
    "        (\"clf\", LGBMClassifier(n_jobs=-1, random_state=42))\n",
    "    ])\n",
    "}\n"
   ]
  },
  {
   "cell_type": "markdown",
   "metadata": {},
   "source": [
    "### 4. Evaluación con Barra de Progreso\n",
    "\n",
    "Se implementa una función personalizada para evaluar el desempeño de los modelos utilizando validación cruzada estratificada con 5 particiones. Para mejorar la experiencia del usuario, se integra una barra de progreso visual mediante la librería `tqdm`, la cual muestra el avance del proceso durante la evaluación. En cada iteración, se entrena el modelo sobre el conjunto de entrenamiento y se calcula su precisión (`accuracy`) sobre el conjunto de prueba. Al finalizar, se muestra el promedio de precisión del modelo como métrica principal.\n"
   ]
  },
  {
   "cell_type": "code",
   "execution_count": 8,
   "metadata": {},
   "outputs": [],
   "source": [
    "# === 4. EVALUACIÓN CON BARRA DE PROGRESO ===\n",
    "\n",
    "from sklearn.model_selection import StratifiedKFold\n",
    "from sklearn.metrics import accuracy_score\n",
    "from tqdm import tqdm\n",
    "import matplotlib.pyplot as plt\n",
    "\n",
    "def evaluar_modelo(modelo, X, y, nombre_modelo=\"Modelo\"):\n",
    "    cv = StratifiedKFold(n_splits=5, shuffle=True, random_state=42)\n",
    "    scores = []\n",
    "    pbar = tqdm(cv.split(X, y), total=5, desc=f\"{nombre_modelo} (0/5)\", ncols=80)\n",
    "\n",
    "    for i, (train_idx, test_idx) in enumerate(pbar):\n",
    "        X_train, X_test = X.iloc[train_idx], X.iloc[test_idx]\n",
    "        y_train, y_test = y.iloc[train_idx], y.iloc[test_idx]\n",
    "\n",
    "        modelo.fit(X_train, y_train)\n",
    "        y_pred = modelo.predict(X_test)\n",
    "        score = accuracy_score(y_test, y_pred)\n",
    "        scores.append(score)\n",
    "        pbar.set_description(f\"{nombre_modelo} ({i+1}/5)\")\n",
    "\n",
    "    promedio = np.mean(scores).round(4)\n",
    "    print(f\"{nombre_modelo} -> Accuracy promedio: {promedio}\")\n",
    "    return promedio"
   ]
  },
  {
   "cell_type": "markdown",
   "metadata": {},
   "source": [
    "### 5. Comparación y Gráfica\n",
    "\n",
    "En esta sección se realiza una comparación cuantitativa del rendimiento de todos los modelos definidos previamente. Se evalúa cada modelo utilizando la función de validación cruzada con barra de progreso y se almacena su precisión promedio (`accuracy`). Luego, se construye una tabla resumen ordenada de mayor a menor precisión para identificar los modelos con mejor desempeño. Finalmente, se genera una gráfica de barras horizontales que visualiza claramente las diferencias de rendimiento entre los distintos enfoques de clasificación.\n"
   ]
  },
  {
   "cell_type": "code",
   "execution_count": 9,
   "metadata": {},
   "outputs": [
    {
     "name": "stderr",
     "output_type": "stream",
     "text": [
      "Logistic Regression (5/5): 100%|██████████████████| 5/5 [00:18<00:00,  3.76s/it]\n"
     ]
    },
    {
     "name": "stdout",
     "output_type": "stream",
     "text": [
      "Logistic Regression -> Accuracy promedio: 0.7903\n"
     ]
    },
    {
     "name": "stderr",
     "output_type": "stream",
     "text": [
      "Decision Tree (5/5): 100%|████████████████████████| 5/5 [00:06<00:00,  1.38s/it]\n"
     ]
    },
    {
     "name": "stdout",
     "output_type": "stream",
     "text": [
      "Decision Tree -> Accuracy promedio: 0.7593\n"
     ]
    },
    {
     "name": "stderr",
     "output_type": "stream",
     "text": [
      "Bagging (5/5): 100%|██████████████████████████████| 5/5 [02:03<00:00, 24.60s/it]\n"
     ]
    },
    {
     "name": "stdout",
     "output_type": "stream",
     "text": [
      "Bagging -> Accuracy promedio: 0.7972\n"
     ]
    },
    {
     "name": "stderr",
     "output_type": "stream",
     "text": [
      "Random Forest (5/5): 100%|████████████████████████| 5/5 [00:11<00:00,  2.38s/it]\n"
     ]
    },
    {
     "name": "stdout",
     "output_type": "stream",
     "text": [
      "Random Forest -> Accuracy promedio: 0.7838\n"
     ]
    },
    {
     "name": "stderr",
     "output_type": "stream",
     "text": [
      "Gradient Boosting (5/5): 100%|████████████████████| 5/5 [05:49<00:00, 69.88s/it]\n"
     ]
    },
    {
     "name": "stdout",
     "output_type": "stream",
     "text": [
      "Gradient Boosting -> Accuracy promedio: 0.7973\n"
     ]
    },
    {
     "name": "stderr",
     "output_type": "stream",
     "text": [
      "XGBoost (0/5):   0%|                                      | 0/5 [00:00<?, ?it/s]c:\\Users\\Ignacio\\AppData\\Local\\Programs\\Python\\Python312\\Lib\\site-packages\\xgboost\\training.py:183: UserWarning: [15:12:24] WARNING: C:\\actions-runner\\_work\\xgboost\\xgboost\\src\\learner.cc:738: \n",
      "Parameters: { \"use_label_encoder\" } are not used.\n",
      "\n",
      "  bst.update(dtrain, iteration=i, fobj=obj)\n",
      "XGBoost (1/5):  20%|██████                        | 1/5 [00:02<00:09,  2.43s/it]c:\\Users\\Ignacio\\AppData\\Local\\Programs\\Python\\Python312\\Lib\\site-packages\\xgboost\\training.py:183: UserWarning: [15:12:26] WARNING: C:\\actions-runner\\_work\\xgboost\\xgboost\\src\\learner.cc:738: \n",
      "Parameters: { \"use_label_encoder\" } are not used.\n",
      "\n",
      "  bst.update(dtrain, iteration=i, fobj=obj)\n",
      "XGBoost (2/5):  40%|████████████                  | 2/5 [00:04<00:07,  2.34s/it]c:\\Users\\Ignacio\\AppData\\Local\\Programs\\Python\\Python312\\Lib\\site-packages\\xgboost\\training.py:183: UserWarning: [15:12:31] WARNING: C:\\actions-runner\\_work\\xgboost\\xgboost\\src\\learner.cc:738: \n",
      "Parameters: { \"use_label_encoder\" } are not used.\n",
      "\n",
      "  bst.update(dtrain, iteration=i, fobj=obj)\n",
      "XGBoost (3/5):  60%|██████████████████            | 3/5 [00:10<00:08,  4.07s/it]c:\\Users\\Ignacio\\AppData\\Local\\Programs\\Python\\Python312\\Lib\\site-packages\\xgboost\\training.py:183: UserWarning: [15:12:35] WARNING: C:\\actions-runner\\_work\\xgboost\\xgboost\\src\\learner.cc:738: \n",
      "Parameters: { \"use_label_encoder\" } are not used.\n",
      "\n",
      "  bst.update(dtrain, iteration=i, fobj=obj)\n",
      "XGBoost (4/5):  80%|████████████████████████      | 4/5 [00:13<00:03,  3.37s/it]c:\\Users\\Ignacio\\AppData\\Local\\Programs\\Python\\Python312\\Lib\\site-packages\\xgboost\\training.py:183: UserWarning: [15:12:39] WARNING: C:\\actions-runner\\_work\\xgboost\\xgboost\\src\\learner.cc:738: \n",
      "Parameters: { \"use_label_encoder\" } are not used.\n",
      "\n",
      "  bst.update(dtrain, iteration=i, fobj=obj)\n",
      "XGBoost (5/5): 100%|██████████████████████████████| 5/5 [00:19<00:00,  3.85s/it]\n"
     ]
    },
    {
     "name": "stdout",
     "output_type": "stream",
     "text": [
      "XGBoost -> Accuracy promedio: 0.7962\n"
     ]
    },
    {
     "name": "stderr",
     "output_type": "stream",
     "text": [
      "LightGBM (0/5):   0%|                                     | 0/5 [00:00<?, ?it/s]"
     ]
    },
    {
     "name": "stdout",
     "output_type": "stream",
     "text": [
      "[LightGBM] [Info] Number of positive: 3502, number of negative: 3452\n",
      "[LightGBM] [Info] Auto-choosing row-wise multi-threading, the overhead of testing was 0.000856 seconds.\n",
      "You can set `force_row_wise=true` to remove the overhead.\n",
      "And if memory is not enough, you can set `force_col_wise=true`.\n",
      "[LightGBM] [Info] Total Bins 1783\n",
      "[LightGBM] [Info] Number of data points in the train set: 6954, number of used features: 79\n",
      "[LightGBM] [Info] [binary:BoostFromScore]: pavg=0.503595 -> initscore=0.014380\n",
      "[LightGBM] [Info] Start training from score 0.014380\n"
     ]
    },
    {
     "name": "stderr",
     "output_type": "stream",
     "text": [
      "c:\\Users\\Ignacio\\AppData\\Local\\Programs\\Python\\Python312\\Lib\\site-packages\\sklearn\\utils\\validation.py:2739: UserWarning: X does not have valid feature names, but LGBMClassifier was fitted with feature names\n",
      "  warnings.warn(\n",
      "LightGBM (1/5):  20%|█████▊                       | 1/5 [00:00<00:02,  1.74it/s]"
     ]
    },
    {
     "name": "stdout",
     "output_type": "stream",
     "text": [
      "[LightGBM] [Info] Number of positive: 3502, number of negative: 3452\n",
      "[LightGBM] [Info] Auto-choosing col-wise multi-threading, the overhead of testing was 0.000538 seconds.\n",
      "You can set `force_col_wise=true` to remove the overhead.\n",
      "[LightGBM] [Info] Total Bins 1783\n",
      "[LightGBM] [Info] Number of data points in the train set: 6954, number of used features: 79\n",
      "[LightGBM] [Info] [binary:BoostFromScore]: pavg=0.503595 -> initscore=0.014380\n",
      "[LightGBM] [Info] Start training from score 0.014380\n"
     ]
    },
    {
     "name": "stderr",
     "output_type": "stream",
     "text": [
      "c:\\Users\\Ignacio\\AppData\\Local\\Programs\\Python\\Python312\\Lib\\site-packages\\sklearn\\utils\\validation.py:2739: UserWarning: X does not have valid feature names, but LGBMClassifier was fitted with feature names\n",
      "  warnings.warn(\n",
      "LightGBM (2/5):  40%|███████████▌                 | 2/5 [00:01<00:01,  1.72it/s]"
     ]
    },
    {
     "name": "stdout",
     "output_type": "stream",
     "text": [
      "[LightGBM] [Info] Number of positive: 3502, number of negative: 3452\n",
      "[LightGBM] [Info] Auto-choosing col-wise multi-threading, the overhead of testing was 0.000527 seconds.\n",
      "You can set `force_col_wise=true` to remove the overhead.\n",
      "[LightGBM] [Info] Total Bins 1780\n",
      "[LightGBM] [Info] Number of data points in the train set: 6954, number of used features: 78\n",
      "[LightGBM] [Info] [binary:BoostFromScore]: pavg=0.503595 -> initscore=0.014380\n",
      "[LightGBM] [Info] Start training from score 0.014380\n"
     ]
    },
    {
     "name": "stderr",
     "output_type": "stream",
     "text": [
      "c:\\Users\\Ignacio\\AppData\\Local\\Programs\\Python\\Python312\\Lib\\site-packages\\sklearn\\utils\\validation.py:2739: UserWarning: X does not have valid feature names, but LGBMClassifier was fitted with feature names\n",
      "  warnings.warn(\n",
      "LightGBM (3/5):  60%|█████████████████▍           | 3/5 [00:01<00:01,  1.67it/s]"
     ]
    },
    {
     "name": "stdout",
     "output_type": "stream",
     "text": [
      "[LightGBM] [Info] Number of positive: 3503, number of negative: 3452\n",
      "[LightGBM] [Info] Auto-choosing col-wise multi-threading, the overhead of testing was 0.000516 seconds.\n",
      "You can set `force_col_wise=true` to remove the overhead.\n",
      "[LightGBM] [Info] Total Bins 1782\n",
      "[LightGBM] [Info] Number of data points in the train set: 6955, number of used features: 78\n",
      "[LightGBM] [Info] [binary:BoostFromScore]: pavg=0.503666 -> initscore=0.014666\n",
      "[LightGBM] [Info] Start training from score 0.014666\n"
     ]
    },
    {
     "name": "stderr",
     "output_type": "stream",
     "text": [
      "c:\\Users\\Ignacio\\AppData\\Local\\Programs\\Python\\Python312\\Lib\\site-packages\\sklearn\\utils\\validation.py:2739: UserWarning: X does not have valid feature names, but LGBMClassifier was fitted with feature names\n",
      "  warnings.warn(\n",
      "LightGBM (4/5):  80%|███████████████████████▏     | 4/5 [00:02<00:00,  1.70it/s]"
     ]
    },
    {
     "name": "stdout",
     "output_type": "stream",
     "text": [
      "[LightGBM] [Info] Number of positive: 3503, number of negative: 3452\n",
      "[LightGBM] [Info] Auto-choosing col-wise multi-threading, the overhead of testing was 0.000602 seconds.\n",
      "You can set `force_col_wise=true` to remove the overhead.\n",
      "[LightGBM] [Info] Total Bins 1783\n",
      "[LightGBM] [Info] Number of data points in the train set: 6955, number of used features: 79\n",
      "[LightGBM] [Info] [binary:BoostFromScore]: pavg=0.503666 -> initscore=0.014666\n",
      "[LightGBM] [Info] Start training from score 0.014666\n"
     ]
    },
    {
     "name": "stderr",
     "output_type": "stream",
     "text": [
      "c:\\Users\\Ignacio\\AppData\\Local\\Programs\\Python\\Python312\\Lib\\site-packages\\sklearn\\utils\\validation.py:2739: UserWarning: X does not have valid feature names, but LGBMClassifier was fitted with feature names\n",
      "  warnings.warn(\n",
      "LightGBM (5/5): 100%|█████████████████████████████| 5/5 [00:02<00:00,  1.68it/s]"
     ]
    },
    {
     "name": "stdout",
     "output_type": "stream",
     "text": [
      "LightGBM -> Accuracy promedio: 0.8004\n",
      "\n",
      "🔍 Comparación de modelos:\n",
      "                Modelo  Accuracy Promedio\n",
      "6             LightGBM             0.8004\n",
      "4    Gradient Boosting             0.7973\n",
      "2              Bagging             0.7972\n",
      "5              XGBoost             0.7962\n",
      "0  Logistic Regression             0.7903\n",
      "3        Random Forest             0.7838\n",
      "1        Decision Tree             0.7593\n"
     ]
    },
    {
     "name": "stderr",
     "output_type": "stream",
     "text": [
      "\n"
     ]
    },
    {
     "data": {
      "image/png": "[encoded data removed]",
      "text/plain": [
       "<Figure size 1000x600 with 1 Axes>"
      ]
     },
     "metadata": {},
     "output_type": "display_data"
    }
   ],
   "source": [
    "# === 5. COMPARACIÓN Y GRÁFICA ===\n",
    "\n",
    "resultados = {}\n",
    "for nombre, modelo in modelos.items():\n",
    "    acc = evaluar_modelo(modelo, X, y, nombre_modelo=nombre)\n",
    "    resultados[nombre] = acc\n",
    "\n",
    "# Tabla resumen\n",
    "resumen = pd.DataFrame(list(resultados.items()), columns=[\"Modelo\", \"Accuracy Promedio\"])\n",
    "resumen = resumen.sort_values(by=\"Accuracy Promedio\", ascending=False)\n",
    "\n",
    "print(\"\\n🔍 Comparación de modelos:\")\n",
    "print(resumen)\n",
    "\n",
    "# Gráfico de barras\n",
    "plt.figure(figsize=(10, 6))\n",
    "plt.barh(resumen[\"Modelo\"], resumen[\"Accuracy Promedio\"], color=\"royalblue\")\n",
    "plt.xlabel(\"Accuracy Promedio\")\n",
    "plt.title(\"Comparación de Modelos de Clasificación\")\n",
    "plt.gca().invert_yaxis()\n",
    "plt.grid(True, axis=\"x\", linestyle=\"--\", alpha=0.7)\n",
    "plt.tight_layout()\n",
    "plt.show()"
   ]
  },
  {
   "cell_type": "markdown",
   "metadata": {},
   "source": [
    "### 6. Predicción Final con el Mejor Modelo\n",
    "\n",
    "Una vez evaluados todos los modelos, se selecciona automáticamente aquel que obtuvo la mayor precisión promedio durante la validación cruzada. Este modelo es luego reentrenado utilizando el conjunto completo de entrenamiento.\n",
    "\n",
    "Posteriormente, se carga el conjunto de datos de prueba (`test.csv`) y se le aplica exactamente el mismo proceso de ingeniería de variables utilizado en los datos de entrenamiento, asegurando consistencia en el pipeline.\n",
    "\n",
    "Se generan las predicciones finales para cada pasajero, y se crea un archivo de salida llamado `submission.csv` que contiene las columnas requeridas por el formato de entrega:\n",
    "\n",
    "- `PassengerId`: identificador único del pasajero.\n",
    "- `Transported`: predicción booleana que indica si el pasajero fue transportado o no.\n",
    "\n",
    "Este archivo está listo para ser utilizado en una competencia o evaluación final.\n"
   ]
  },
  {
   "cell_type": "code",
   "execution_count": 10,
   "metadata": {},
   "outputs": [
    {
     "name": "stdout",
     "output_type": "stream",
     "text": [
      "\n",
      "✅ Mejor modelo seleccionado: LightGBM\n",
      "[LightGBM] [Info] Number of positive: 4378, number of negative: 4315\n",
      "[LightGBM] [Info] Auto-choosing col-wise multi-threading, the overhead of testing was 0.000529 seconds.\n",
      "You can set `force_col_wise=true` to remove the overhead.\n",
      "[LightGBM] [Info] Total Bins 1786\n",
      "[LightGBM] [Info] Number of data points in the train set: 8693, number of used features: 80\n",
      "[LightGBM] [Info] [binary:BoostFromScore]: pavg=0.503624 -> initscore=0.014495\n",
      "[LightGBM] [Info] Start training from score 0.014495\n",
      "\n",
      "📁 Archivo 'submission.csv' generado correctamente.\n"
     ]
    },
    {
     "name": "stderr",
     "output_type": "stream",
     "text": [
      "c:\\Users\\Ignacio\\AppData\\Local\\Programs\\Python\\Python312\\Lib\\site-packages\\sklearn\\utils\\validation.py:2739: UserWarning: X does not have valid feature names, but LGBMClassifier was fitted with feature names\n",
      "  warnings.warn(\n"
     ]
    }
   ],
   "source": [
    "# === 6. PREDICCIÓN FINAL CON EL MEJOR MODELO ===\n",
    "\n",
    "# Seleccionar el nombre del mejor modelo\n",
    "mejor_modelo_nombre = resumen.iloc[0][\"Modelo\"]\n",
    "mejor_modelo = modelos[mejor_modelo_nombre]\n",
    "\n",
    "print(f\"\\n✅ Mejor modelo seleccionado: {mejor_modelo_nombre}\")\n",
    "\n",
    "# Cargar datos de test\n",
    "test = pd.read_csv(\"test.csv\")\n",
    "\n",
    "# === Ingeniería de variables en test (mismo procesamiento que train) ===\n",
    "test[[\"FirstName\", \"LastName\"]] = test[\"Name\"].str.split(\" \", n=1, expand=True)\n",
    "\n",
    "test[\"NameLength\"] = test[\"Name\"].str.len()\n",
    "test[\"FirstNameLength\"] = test[\"FirstName\"].str.len()\n",
    "test[\"LastNameLength\"] = test[\"LastName\"].str.len()\n",
    "test[\"NameInitial\"] = test[\"FirstName\"].str[0]\n",
    "test[\"LastNameInitial\"] = test[\"LastName\"].str[0]\n",
    "test[\"CompoundName\"] = test[\"FirstName\"].apply(lambda x: 1 if pd.notna(x) and \" \" in x else 0)\n",
    "test[\"IsNameLong\"] = (test[\"FirstNameLength\"] > 7).astype(int)\n",
    "\n",
    "test[\"GroupID\"] = test[\"PassengerId\"].str.split(\"_\").str[0]\n",
    "test[\"GroupSize\"] = test[\"GroupID\"].map(test[\"GroupID\"].value_counts())\n",
    "\n",
    "test[[\"Deck\", \"CabinNum\", \"Side\"]] = test[\"Cabin\"].str.split(\"/\", expand=True)\n",
    "\n",
    "gastos = [\"RoomService\", \"FoodCourt\", \"ShoppingMall\", \"Spa\", \"VRDeck\"]\n",
    "test[\"TotalSpent\"] = test[gastos].sum(axis=1)\n",
    "test[\"HasSpent\"] = (test[\"TotalSpent\"] > 0).astype(int)\n",
    "test[\"VIP_no_spent\"] = ((test[\"VIP\"] == True) & (test[\"TotalSpent\"] == 0)).astype(int)\n",
    "\n",
    "# Variables predictoras (mismo orden que X)\n",
    "X_test = test[X.columns]  # Usa las mismas columnas que X\n",
    "\n",
    "# Entrenar el mejor modelo con todos los datos\n",
    "mejor_modelo.fit(X, y)\n",
    "\n",
    "# Hacer predicciones\n",
    "predicciones = mejor_modelo.predict(X_test)\n",
    "\n",
    "# Crear archivo de envío\n",
    "submission = pd.DataFrame({\n",
    "    \"PassengerId\": test[\"PassengerId\"],\n",
    "    \"Transported\": predicciones.astype(bool)\n",
    "})\n",
    "\n",
    "# Guardar como CSV\n",
    "submission.to_csv(\"submission.csv\", index=False)\n",
    "\n",
    "print(\"\\n📁 Archivo 'submission.csv' generado correctamente.\")\n"
   ]
  },
  {
   "cell_type": "markdown",
   "metadata": {},
   "source": [
    "### Conclusión\n",
    "El presente análisis demuestra la importancia de una adecuada ingeniería de variables, preprocesamiento y evaluación comparativa de modelos en problemas de clasificación supervisada. A través del uso de pipelines y técnicas como validación cruzada estratificada, se logró identificar el modelo con mejor rendimiento en términos de precisión para predecir si un pasajero fue transportado o no en la nave espacial.\n",
    "\n",
    "Las transformaciones aplicadas a las variables, como la extracción de información de los nombres, agrupaciones por ID familiar y análisis de gastos, permitieron enriquecer significativamente el conjunto de datos original. Entre los modelos evaluados, algoritmos basados en ensambles como Random Forest, XGBoost o LightGBM ofrecieron los mejores resultados, confirmando su efectividad en tareas de clasificación con múltiples variables mixtas.\n",
    "\n",
    "Finalmente, el modelo con mayor precisión fue utilizado para realizar predicciones sobre el conjunto de prueba, generando un archivo submission.csv listo para ser evaluado en la plataforma de Kaggle.\n",
    "\n",
    "### Referencias\n",
    "Kaggle. (2022). Spaceship Titanic - Can you predict which passengers were transported to an alternate dimension?. Recuperado de: https://www.kaggle.com/competitions/spaceship-titanic/\n",
    "\n",
    "Scikit-learn Developers. (2024). scikit-learn: Machine Learning in Python. Documentación oficial: https://scikit-learn.org/\n",
    "\n",
    "XGBoost Contributors. (2024). XGBoost Documentation. Recuperado de: https://xgboost.readthedocs.io/\n",
    "\n",
    "LightGBM Developers. (2024). LightGBM Documentation. Recuperado de: https://lightgbm.readthedocs.io/\n",
    "\n",
    "OpenAI. (2025). Asistente de desarrollo y análisis de datos en lenguaje natural mediante ChatGPT.\n",
    "\n"
   ]
  }
 ],
 "metadata": {
  "kernelspec": {
   "display_name": "Python 3",
   "language": "python",
   "name": "python3"
  },
  "language_info": {
   "codemirror_mode": {
    "name": "ipython",
    "version": 3
   },
   "file_extension": ".py",
   "mimetype": "text/x-python",
   "name": "python",
   "nbconvert_exporter": "python",
   "pygments_lexer": "ipython3",
   "version": "3.12.6"
  }
 },
 "nbformat": 4,
 "nbformat_minor": 2
}
